{
  "cells": [
    {
      "cell_type": "code",
      "execution_count": null,
      "metadata": {
        "id": "-ZU7a8199fcb"
      },
      "outputs": [],
      "source": [
        "import torch\n",
        "import torch.nn as nn\n",
        "import torch.optim as optim\n",
        "from torchvision import models, transforms, datasets\n",
        "from sklearn.model_selection import train_test_split\n",
        "from torch.utils.data import DataLoader, Dataset\n",
        "import os\n",
        "from PIL import Image\n",
        "import zipfile"
      ]
    },
    {
      "cell_type": "code",
      "execution_count": null,
      "metadata": {
        "colab": {
          "base_uri": "https://localhost:8080/"
        },
        "id": "DP72uiEC9-yQ",
        "outputId": "32a562ed-8251-4dee-a3b4-0c27bee8bc4a"
      },
      "outputs": [
        {
          "output_type": "stream",
          "name": "stdout",
          "text": [
            "Downloading...\n",
            "From: https://drive.google.com/uc?id=1F5aAY3sl3X8otpcknJKCEGq-g0SLmZWg\n",
            "To: /content/foto.zip\n",
            "100% 715M/715M [00:08<00:00, 87.3MB/s]\n"
          ]
        }
      ],
      "source": [
        "#dataset for training\n",
        "!gdown https://drive.google.com/uc?id=1F5aAY3sl3X8otpcknJKCEGq-g0SLmZWg"
      ]
    },
    {
      "cell_type": "code",
      "execution_count": null,
      "metadata": {
        "id": "tIgG5m1V-Mf5"
      },
      "outputs": [],
      "source": [
        "os.makedirs('Dataset', exist_ok=True)\n",
        "local_zip = '/content/foto.zip'\n",
        "zip_ref = zipfile.ZipFile(local_zip, 'r')\n",
        "zip_ref.extractall('/content/Dataset/')\n",
        "zip_ref.close()"
      ]
    },
    {
      "cell_type": "code",
      "execution_count": null,
      "metadata": {
        "id": "WmzphmvVGGD4"
      },
      "outputs": [],
      "source": [
        "# Set device (GPU if available, otherwise CPU)\n",
        "device = torch.device(\"cuda\" if torch.cuda.is_available() else \"cpu\")"
      ]
    },
    {
      "cell_type": "code",
      "source": [
        "class CustomDataset(Dataset):\n",
        "    def __init__(self, data, labels, transform=None):\n",
        "        self.data = data\n",
        "        self.labels = labels\n",
        "        self.transform = transform\n",
        "        self.classes = list(set(labels))  # Store unique classes\n",
        "\n",
        "    def __len__(self):\n",
        "        return len(self.data)\n",
        "\n",
        "    def __getitem__(self, index):\n",
        "        image_path = self.data[index]\n",
        "        label = self.labels[index]\n",
        "\n",
        "        # Baca gambar\n",
        "        image = Image.open(image_path).convert(\"RGB\")\n",
        "\n",
        "        # Terapkan transformasi jika ada\n",
        "        if self.transform is not None:\n",
        "            image = self.transform(image)\n",
        "\n",
        "        return image, label\n",
        "\n",
        "# Path ke folder dataset\n",
        "dataset_path = '/content/Dataset'\n",
        "\n",
        "# List untuk menyimpan path ke setiap gambar dan label\n",
        "data = []\n",
        "labels = []\n",
        "\n",
        "# Membaca setiap folder dalam dataset\n",
        "for person_folder in os.listdir(dataset_path):\n",
        "    person_path = os.path.join(dataset_path, person_folder)\n",
        "\n",
        "    # Membaca setiap gambar dalam folder person\n",
        "    for image_file in os.listdir(person_path):\n",
        "        image_path = os.path.join(person_path, image_file)\n",
        "\n",
        "        # Menambahkan path gambar dan label ke list\n",
        "        data.append(image_path)\n",
        "        labels.append(person_folder)\n",
        "\n",
        "# Membagi data menjadi train dan validation secara otomatis\n",
        "train_data, val_data, train_labels, val_labels = train_test_split(\n",
        "    data, labels, test_size=0.3, random_state=42, stratify=labels)\n",
        "\n",
        "# Membuat dataset dan dataloader untuk train\n",
        "train_dataset = CustomDataset(train_data, train_labels, transform=transforms.Compose([\n",
        "    transforms.RandomResizedCrop(224),\n",
        "    transforms.RandomHorizontalFlip(),\n",
        "    transforms.ToTensor(),\n",
        "    transforms.Normalize(mean=[0.485, 0.456, 0.406], std=[0.229, 0.224, 0.225])\n",
        "]))\n",
        "train_loader = DataLoader(train_dataset, batch_size=32, shuffle=True, num_workers=4)\n",
        "\n",
        "# Membuat dataset dan dataloader untuk validation\n",
        "val_dataset = CustomDataset(val_data, val_labels, transform=transforms.Compose([\n",
        "    transforms.Resize((224, 224)),\n",
        "    transforms.ToTensor(),\n",
        "    transforms.Normalize(mean=[0.485, 0.456, 0.406], std=[0.229, 0.224, 0.225])\n",
        "]))\n",
        "val_loader = DataLoader(val_dataset, batch_size=32, shuffle=False, num_workers=4)\n"
      ],
      "metadata": {
        "id": "W0SI4VDpnWF1",
        "colab": {
          "base_uri": "https://localhost:8080/"
        },
        "outputId": "74fe3757-adc7-46df-c081-d2ecf92fceac"
      },
      "execution_count": null,
      "outputs": [
        {
          "output_type": "stream",
          "name": "stderr",
          "text": [
            "/usr/local/lib/python3.10/dist-packages/torch/utils/data/dataloader.py:557: UserWarning: This DataLoader will create 4 worker processes in total. Our suggested max number of worker in current system is 2, which is smaller than what this DataLoader is going to create. Please be aware that excessive worker creation might get DataLoader running slow or even freeze, lower the worker number to avoid potential slowness/freeze if necessary.\n",
            "  warnings.warn(_create_warning_msg(\n"
          ]
        }
      ]
    },
    {
      "cell_type": "code",
      "execution_count": null,
      "metadata": {
        "id": "TZGkbVu_DVRs",
        "colab": {
          "base_uri": "https://localhost:8080/"
        },
        "outputId": "a97163db-497c-4c40-d95a-2e56b11d7563"
      },
      "outputs": [
        {
          "output_type": "stream",
          "name": "stderr",
          "text": [
            "/usr/local/lib/python3.10/dist-packages/torchvision/models/_utils.py:208: UserWarning: The parameter 'pretrained' is deprecated since 0.13 and may be removed in the future, please use 'weights' instead.\n",
            "  warnings.warn(\n",
            "/usr/local/lib/python3.10/dist-packages/torchvision/models/_utils.py:223: UserWarning: Arguments other than a weight enum or `None` for 'weights' are deprecated since 0.13 and may be removed in the future. The current behavior is equivalent to passing `weights=VGG16_Weights.IMAGENET1K_V1`. You can also use `weights=VGG16_Weights.DEFAULT` to get the most up-to-date weights.\n",
            "  warnings.warn(msg)\n"
          ]
        }
      ],
      "source": [
        "# Load pre-trained VGG16 model\n",
        "vgg = models.vgg16(pretrained=True)"
      ]
    },
    {
      "cell_type": "code",
      "execution_count": null,
      "metadata": {
        "id": "dYHGoeAYGkrA"
      },
      "outputs": [],
      "source": [
        "# Freeze convolutional layers\n",
        "for param in vgg.features.parameters():\n",
        "    param.requires_grad = False\n",
        "\n",
        "# Store unique classes in the dataset\n",
        "num_classes = len(train_dataset.classes)\n",
        "\n",
        "# Modify the classifier\n",
        "vgg.classifier[-1] = nn.Linear(vgg.classifier[-1].in_features, num_classes)\n",
        "\n",
        "# Move the model to the device\n",
        "vgg = vgg.to(device)"
      ]
    },
    {
      "cell_type": "code",
      "source": [
        "# Define loss function and optimizer\n",
        "criterion = nn.CrossEntropyLoss()\n",
        "optimizer = torch.optim.Adagrad(vgg.parameters(), lr=0.001)"
      ],
      "metadata": {
        "id": "hedL7jDLqrj1"
      },
      "execution_count": null,
      "outputs": []
    },
    {
      "cell_type": "code",
      "execution_count": null,
      "metadata": {
        "id": "jahAWol3GvM_",
        "colab": {
          "base_uri": "https://localhost:8080/"
        },
        "outputId": "83ad3621-6d0e-4916-a730-541066e252cb"
      },
      "outputs": [
        {
          "output_type": "stream",
          "name": "stdout",
          "text": [
            "Epoch 1/10, Loss: 1.1549, Accuracy: 0.5850\n",
            "Validation Loss: 0.0852, Validation Accuracy: 0.9603\n",
            "Epoch 2/10, Loss: 0.1715, Accuracy: 0.9490\n",
            "Validation Loss: 0.0180, Validation Accuracy: 0.9921\n",
            "Epoch 3/10, Loss: 0.0909, Accuracy: 0.9694\n",
            "Validation Loss: 0.0019, Validation Accuracy: 1.0000\n",
            "Epoch 4/10, Loss: 0.0920, Accuracy: 0.9796\n",
            "Validation Loss: 0.0029, Validation Accuracy: 1.0000\n",
            "Epoch 5/10, Loss: 0.0679, Accuracy: 0.9728\n",
            "Validation Loss: 0.0004, Validation Accuracy: 1.0000\n",
            "Epoch 6/10, Loss: 0.0434, Accuracy: 0.9864\n",
            "Validation Loss: 0.0014, Validation Accuracy: 1.0000\n",
            "Epoch 7/10, Loss: 0.0171, Accuracy: 0.9966\n",
            "Validation Loss: 0.0001, Validation Accuracy: 1.0000\n",
            "Epoch 8/10, Loss: 0.0642, Accuracy: 0.9796\n",
            "Validation Loss: 0.0001, Validation Accuracy: 1.0000\n",
            "Epoch 9/10, Loss: 0.0468, Accuracy: 0.9830\n",
            "Validation Loss: 0.0004, Validation Accuracy: 1.0000\n",
            "Epoch 10/10, Loss: 0.0560, Accuracy: 0.9864\n",
            "Validation Loss: 0.0001, Validation Accuracy: 1.0000\n"
          ]
        }
      ],
      "source": [
        "from sklearn.metrics import confusion_matrix, precision_score, recall_score, f1_score\n",
        "\n",
        "# Lists to store training and validation losses\n",
        "train_losses = []\n",
        "val_losses = []\n",
        "\n",
        "# Lists to store training and validation accuracies\n",
        "train_accuracies = []\n",
        "val_accuracies = []\n",
        "\n",
        "num_epochs = 10\n",
        "\n",
        "for epoch in range(num_epochs):\n",
        "    vgg.train()\n",
        "    running_loss = 0.0\n",
        "    correct_predictions = 0\n",
        "    total_samples = 0\n",
        "\n",
        "    #Training loop\n",
        "    for inputs, labels_tuple in train_loader:\n",
        "        inputs = inputs.to(device)\n",
        "\n",
        "        # Assuming labels are strings, convert them to numerical labels\n",
        "        labels = [train_dataset.classes.index(label) for label in labels_tuple]\n",
        "        labels = torch.tensor(labels).to(device)\n",
        "\n",
        "        optimizer.zero_grad()\n",
        "\n",
        "        outputs = vgg(inputs)\n",
        "        loss = criterion(outputs, labels)\n",
        "        loss.backward()\n",
        "        optimizer.step()\n",
        "\n",
        "        running_loss += loss.item()\n",
        "\n",
        "        # Calculate accuracy\n",
        "        _, predicted = torch.max(outputs, 1)\n",
        "        total_samples += labels.size(0)\n",
        "        correct_predictions += (predicted == labels).sum().item()\n",
        "\n",
        "    # Calculate average train loss and accuracy\n",
        "    epoch_loss = running_loss / len(train_loader)\n",
        "    epoch_accuracy = correct_predictions / total_samples\n",
        "\n",
        "    # Save values for plotting\n",
        "    train_losses.append(epoch_loss)\n",
        "    train_accuracies.append(epoch_accuracy)\n",
        "\n",
        "    # Print average training loss and accuracy\n",
        "    print(f\"Epoch {epoch + 1}/{num_epochs}, Loss: {epoch_loss:.4f}, Accuracy: {epoch_accuracy:.4f}\")\n",
        "\n",
        "    # Validation loop\n",
        "    vgg.eval()\n",
        "    val_running_loss = 0.0\n",
        "    val_correct_predictions = 0\n",
        "    val_total_samples = 0\n",
        "    val_predicted_labels = []\n",
        "    true_labels = []\n",
        "\n",
        "    with torch.no_grad():\n",
        "        for inputs, labels_tuple in val_loader:\n",
        "            inputs = inputs.to(device)\n",
        "\n",
        "            # Assuming labels are strings, convert them to numerical labels\n",
        "            labels = [val_dataset.classes.index(label) for label in labels_tuple]\n",
        "            labels = torch.tensor(labels).to(device)\n",
        "\n",
        "            outputs = vgg(inputs)\n",
        "            val_loss = criterion(outputs, labels)\n",
        "            val_running_loss += val_loss.item()\n",
        "\n",
        "            # Calculate accuracy\n",
        "            _, val_predicted = torch.max(outputs, 1)\n",
        "            val_total_samples += labels.size(0)\n",
        "            val_correct_predictions += (val_predicted == labels).sum().item()\n",
        "\n",
        "            # Append true labels and predicted labels\n",
        "            true_labels.extend(labels.cpu().numpy())\n",
        "            val_predicted_labels.extend(val_predicted.cpu().numpy())\n",
        "\n",
        "    # Calculate average validation loss and accuracy\n",
        "    val_epoch_loss = val_running_loss / len(val_loader)\n",
        "    val_epoch_accuracy = val_correct_predictions / val_total_samples\n",
        "\n",
        "    # Save values for plotting\n",
        "    val_losses.append(val_epoch_loss)\n",
        "    val_accuracies.append(val_epoch_accuracy)\n",
        "\n",
        "    # Print average validation loss and accuracy\n",
        "    print(f\"Validation Loss: {val_epoch_loss:.4f}, Validation Accuracy: {val_epoch_accuracy:.4f}\")"
      ]
    },
    {
      "cell_type": "code",
      "source": [
        "import matplotlib.pyplot as plt\n",
        "\n",
        "# Plot kurva loss\n",
        "plt.plot(range(1, num_epochs + 1), train_losses, label='Training Loss')\n",
        "plt.plot(range(1, num_epochs + 1), val_losses, label='Validation Loss')\n",
        "plt.xlabel('Epoch')\n",
        "plt.ylabel('Loss')\n",
        "plt.legend()\n",
        "plt.show()\n",
        "\n",
        "# Plot kurva akurasi\n",
        "plt.plot(range(1, num_epochs + 1), train_accuracies, label='Training Accuracy')\n",
        "plt.plot(range(1, num_epochs + 1), val_accuracies, label='Validation Accuracy')\n",
        "plt.xlabel('Epoch')\n",
        "plt.ylabel('Accuracy')\n",
        "plt.legend()\n",
        "plt.show()"
      ],
      "metadata": {
        "colab": {
          "base_uri": "https://localhost:8080/",
          "height": 883
        },
        "id": "NEpAxIGqeK8k",
        "outputId": "c5bf264a-188d-49d6-907b-afb0a77799bc"
      },
      "execution_count": null,
      "outputs": [
        {
          "output_type": "display_data",
          "data": {
            "text/plain": [
              "<Figure size 640x480 with 1 Axes>"
            ],
            "image/png": "[encoded data removed]"
          },
          "metadata": {}
        },
        {
          "output_type": "display_data",
          "data": {
            "text/plain": [
              "<Figure size 640x480 with 1 Axes>"
            ],
            "image/png": "[encoded data removed]"
          },
          "metadata": {}
        }
      ]
    },
    {
      "cell_type": "code",
      "source": [
        "# Mendefinisikan path untuk menyimpan model\n",
        "os.makedirs('train_model', exist_ok=True)\n",
        "model_path = os.path.join('train_model', 'model.pth')\n",
        "\n",
        "# Menyimpan model\n",
        "torch.save(vgg.state_dict(), model_path)"
      ],
      "metadata": {
        "id": "CvsNL1sSC_H2"
      },
      "execution_count": null,
      "outputs": []
    },
    {
      "cell_type": "code",
      "source": [
        "# Load model\n",
        "vgg = models.vgg16(pretrained=False)\n",
        "vgg.classifier[-1] = nn.Linear(vgg.classifier[-1].in_features, num_classes)\n",
        "vgg.load_state_dict(torch.load('/content/train_model/model.pth'))\n",
        "vgg = vgg.to(device)\n",
        "vgg.eval()"
      ],
      "metadata": {
        "colab": {
          "base_uri": "https://localhost:8080/"
        },
        "id": "mKZwCWKzCN_-",
        "outputId": "bd8da8d2-0c09-48be-d88f-010e7af311cf"
      },
      "execution_count": null,
      "outputs": [
        {
          "output_type": "stream",
          "name": "stderr",
          "text": [
            "/usr/local/lib/python3.10/dist-packages/torchvision/models/_utils.py:208: UserWarning: The parameter 'pretrained' is deprecated since 0.13 and may be removed in the future, please use 'weights' instead.\n",
            "  warnings.warn(\n",
            "/usr/local/lib/python3.10/dist-packages/torchvision/models/_utils.py:223: UserWarning: Arguments other than a weight enum or `None` for 'weights' are deprecated since 0.13 and may be removed in the future. The current behavior is equivalent to passing `weights=None`.\n",
            "  warnings.warn(msg)\n"
          ]
        },
        {
          "output_type": "execute_result",
          "data": {
            "text/plain": [
              "VGG(\n",
              "  (features): Sequential(\n",
              "    (0): Conv2d(3, 64, kernel_size=(3, 3), stride=(1, 1), padding=(1, 1))\n",
              "    (1): ReLU(inplace=True)\n",
              "    (2): Conv2d(64, 64, kernel_size=(3, 3), stride=(1, 1), padding=(1, 1))\n",
              "    (3): ReLU(inplace=True)\n",
              "    (4): MaxPool2d(kernel_size=2, stride=2, padding=0, dilation=1, ceil_mode=False)\n",
              "    (5): Conv2d(64, 128, kernel_size=(3, 3), stride=(1, 1), padding=(1, 1))\n",
              "    (6): ReLU(inplace=True)\n",
              "    (7): Conv2d(128, 128, kernel_size=(3, 3), stride=(1, 1), padding=(1, 1))\n",
              "    (8): ReLU(inplace=True)\n",
              "    (9): MaxPool2d(kernel_size=2, stride=2, padding=0, dilation=1, ceil_mode=False)\n",
              "    (10): Conv2d(128, 256, kernel_size=(3, 3), stride=(1, 1), padding=(1, 1))\n",
              "    (11): ReLU(inplace=True)\n",
              "    (12): Conv2d(256, 256, kernel_size=(3, 3), stride=(1, 1), padding=(1, 1))\n",
              "    (13): ReLU(inplace=True)\n",
              "    (14): Conv2d(256, 256, kernel_size=(3, 3), stride=(1, 1), padding=(1, 1))\n",
              "    (15): ReLU(inplace=True)\n",
              "    (16): MaxPool2d(kernel_size=2, stride=2, padding=0, dilation=1, ceil_mode=False)\n",
              "    (17): Conv2d(256, 512, kernel_size=(3, 3), stride=(1, 1), padding=(1, 1))\n",
              "    (18): ReLU(inplace=True)\n",
              "    (19): Conv2d(512, 512, kernel_size=(3, 3), stride=(1, 1), padding=(1, 1))\n",
              "    (20): ReLU(inplace=True)\n",
              "    (21): Conv2d(512, 512, kernel_size=(3, 3), stride=(1, 1), padding=(1, 1))\n",
              "    (22): ReLU(inplace=True)\n",
              "    (23): MaxPool2d(kernel_size=2, stride=2, padding=0, dilation=1, ceil_mode=False)\n",
              "    (24): Conv2d(512, 512, kernel_size=(3, 3), stride=(1, 1), padding=(1, 1))\n",
              "    (25): ReLU(inplace=True)\n",
              "    (26): Conv2d(512, 512, kernel_size=(3, 3), stride=(1, 1), padding=(1, 1))\n",
              "    (27): ReLU(inplace=True)\n",
              "    (28): Conv2d(512, 512, kernel_size=(3, 3), stride=(1, 1), padding=(1, 1))\n",
              "    (29): ReLU(inplace=True)\n",
              "    (30): MaxPool2d(kernel_size=2, stride=2, padding=0, dilation=1, ceil_mode=False)\n",
              "  )\n",
              "  (avgpool): AdaptiveAvgPool2d(output_size=(7, 7))\n",
              "  (classifier): Sequential(\n",
              "    (0): Linear(in_features=25088, out_features=4096, bias=True)\n",
              "    (1): ReLU(inplace=True)\n",
              "    (2): Dropout(p=0.5, inplace=False)\n",
              "    (3): Linear(in_features=4096, out_features=4096, bias=True)\n",
              "    (4): ReLU(inplace=True)\n",
              "    (5): Dropout(p=0.5, inplace=False)\n",
              "    (6): Linear(in_features=4096, out_features=6, bias=True)\n",
              "  )\n",
              ")"
            ]
          },
          "metadata": {},
          "execution_count": 33
        }
      ]
    },
    {
      "cell_type": "code",
      "source": [
        "y_true = []\n",
        "y_pred = []\n",
        "\n",
        "with torch.no_grad():\n",
        "    for inputs, labels_tuple in val_loader:\n",
        "        inputs = inputs.to(device)\n",
        "\n",
        "        # Convert labels to numerical labels\n",
        "        labels = [val_dataset.classes.index(label) for label in labels_tuple]\n",
        "        labels = torch.tensor(labels).to(device)\n",
        "\n",
        "        outputs = vgg(inputs)\n",
        "\n",
        "        # Convert predicted labels to numpy array\n",
        "        _, val_predicted = torch.max(outputs, 1)\n",
        "        y_true.extend(labels.cpu().numpy())\n",
        "        y_pred.extend(val_predicted.cpu().numpy())"
      ],
      "metadata": {
        "id": "8gGMrbqQD_Xp",
        "colab": {
          "base_uri": "https://localhost:8080/"
        },
        "outputId": "2c01e363-8429-42a8-e485-bebd1efa5605"
      },
      "execution_count": null,
      "outputs": [
        {
          "output_type": "stream",
          "name": "stderr",
          "text": [
            "/usr/local/lib/python3.10/dist-packages/torch/utils/data/dataloader.py:557: UserWarning: This DataLoader will create 4 worker processes in total. Our suggested max number of worker in current system is 2, which is smaller than what this DataLoader is going to create. Please be aware that excessive worker creation might get DataLoader running slow or even freeze, lower the worker number to avoid potential slowness/freeze if necessary.\n",
            "  warnings.warn(_create_warning_msg(\n"
          ]
        }
      ]
    },
    {
      "cell_type": "code",
      "source": [
        "from sklearn.metrics import classification_report\n",
        "\n",
        "print(classification_report(y_true, y_pred))"
      ],
      "metadata": {
        "colab": {
          "base_uri": "https://localhost:8080/"
        },
        "id": "tXtEYKlODDsg",
        "outputId": "df3a8369-72b5-47e5-94ac-4dfe3ec2a289"
      },
      "execution_count": null,
      "outputs": [
        {
          "output_type": "stream",
          "name": "stdout",
          "text": [
            "              precision    recall  f1-score   support\n",
            "\n",
            "           0       1.00      1.00      1.00        21\n",
            "           1       1.00      1.00      1.00        21\n",
            "           2       1.00      1.00      1.00        21\n",
            "           3       1.00      1.00      1.00        21\n",
            "           4       1.00      1.00      1.00        21\n",
            "           5       1.00      1.00      1.00        21\n",
            "\n",
            "    accuracy                           1.00       126\n",
            "   macro avg       1.00      1.00      1.00       126\n",
            "weighted avg       1.00      1.00      1.00       126\n",
            "\n"
          ]
        }
      ]
    }
  ],
  "metadata": {
    "accelerator": "GPU",
    "colab": {
      "provenance": []
    },
    "kernelspec": {
      "display_name": "Python 3",
      "name": "python3"
    },
    "language_info": {
      "name": "python"
    }
  },
  "nbformat": 4,
  "nbformat_minor": 0
}